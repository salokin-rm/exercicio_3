{
 "cells": [
  {
   "cell_type": "code",
   "execution_count": 5,
   "id": "96f11c2d",
   "metadata": {},
   "outputs": [
    {
     "name": "stdout",
     "output_type": "stream",
     "text": [
      "Digite 2 numeros separados por enter: \n",
      "1º numero: -4.5\n",
      "2º numero: 3.3\n",
      "Números digitados: [-4.5, 3.3] .\n",
      "Soma dos números =  -1.2000000000000002 .\n"
     ]
    }
   ],
   "source": [
    "\"\"\"\n",
    "Programa: Ler, Somar e Imprimir Números\n",
    "Descrição: Este programa lê 2 números quaisquer, soma e imprime na tela o resultado.\n",
    "Autor: Nikolas Martins\n",
    "Data: 21/06/2023\n",
    "Versão: 0.0.1\n",
    "\"\"\"\n",
    "\n",
    "# Atribuição de variáveis\n",
    "\n",
    "variavel = []\n",
    "tamanho = [0, 0]\n",
    "x=0\n",
    "soma = 0\n",
    "\n",
    "# Entrada de dados\n",
    "\n",
    "print(\"Digite 2 numeros separados por enter: \")\n",
    "\n",
    "# Processamento de dados\n",
    "\n",
    "for y in range(len(tamanho)):\n",
    "    x=x+1\n",
    "    coringa = float(input(f\"{x}º numero: \")) #variável transição\n",
    "    variavel.append(coringa)\n",
    "    soma = soma + variavel[y]\n",
    "    if x==2:\n",
    "        break\n",
    "        \n",
    "# Saída de dados\n",
    "   \n",
    "if len(variavel)==2:\n",
    "    print(\"Números digitados:\",variavel,\".\\nSoma dos números = \",soma,\".\")"
   ]
  }
 ],
 "metadata": {
  "kernelspec": {
   "display_name": "Python 3 (ipykernel)",
   "language": "python",
   "name": "python3"
  },
  "language_info": {
   "codemirror_mode": {
    "name": "ipython",
    "version": 3
   },
   "file_extension": ".py",
   "mimetype": "text/x-python",
   "name": "python",
   "nbconvert_exporter": "python",
   "pygments_lexer": "ipython3",
   "version": "3.10.9"
  }
 },
 "nbformat": 4,
 "nbformat_minor": 5
}
